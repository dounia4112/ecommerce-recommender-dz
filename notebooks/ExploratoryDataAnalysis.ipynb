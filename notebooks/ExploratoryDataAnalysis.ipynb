{
 "cells": [
  {
   "cell_type": "code",
   "execution_count": 184,
   "id": "63493739",
   "metadata": {},
   "outputs": [],
   "source": [
    "import pandas as pd\n",
    "import os\n",
    "import seaborn as sns\n",
    "import matplotlib.pyplot as plt"
   ]
  },
  {
   "cell_type": "code",
   "execution_count": 185,
   "id": "d9a72ceb",
   "metadata": {},
   "outputs": [],
   "source": [
    "files = os.listdir('../data/raw')[1:]\n",
    "\n",
    "all_data = []\n",
    "for file in files:\n",
    "    file_path = '../data/raw/' + file\n",
    "    df = pd.read_csv(file_path, sep=',')\n",
    "    all_data.append(df)\n",
    "\n",
    "df = pd.concat(all_data, ignore_index=True)"
   ]
  },
  {
   "cell_type": "code",
   "execution_count": 186,
   "id": "ab93fbcf",
   "metadata": {},
   "outputs": [
    {
     "data": {
      "application/vnd.microsoft.datawrangler.viewer.v0+json": {
       "columns": [
        {
         "name": "index",
         "rawType": "int64",
         "type": "integer"
        },
        {
         "name": "product_image",
         "rawType": "object",
         "type": "string"
        },
        {
         "name": "product_name",
         "rawType": "object",
         "type": "string"
        },
        {
         "name": "product_brand",
         "rawType": "object",
         "type": "unknown"
        },
        {
         "name": "product_price_after_discount",
         "rawType": "object",
         "type": "unknown"
        },
        {
         "name": "product_price_before_discount",
         "rawType": "object",
         "type": "unknown"
        },
        {
         "name": "discount",
         "rawType": "float64",
         "type": "float"
        },
        {
         "name": "rating",
         "rawType": "float64",
         "type": "float"
        },
        {
         "name": "product_url",
         "rawType": "object",
         "type": "string"
        },
        {
         "name": "category_name",
         "rawType": "object",
         "type": "string"
        },
        {
         "name": "sub_category_title",
         "rawType": "object",
         "type": "unknown"
        }
       ],
       "ref": "a52f6798-4b7b-4958-8446-e0b17f16b0fd",
       "rows": [
        [
         "0",
         "https://hanoutedz.com/wp-content/uploads/2016/10/a4.jpg",
         "ipsa quae ab",
         null,
         null,
         "152.0",
         null,
         null,
         "https://hanoutedz.com/produit/ipsa-quae-ab/",
         "Bathroom",
         null
        ],
        [
         "1",
         "https://hanoutedz.com/wp-content/uploads/2016/10/b3.jpg",
         "eaque ipsa quae",
         null,
         "70.0",
         "60.0",
         null,
         null,
         "https://hanoutedz.com/produit/eaque-ipsa-quae/",
         "Bathroom",
         null
        ],
        [
         "2",
         "https://hanoutedz.com/wp-content/uploads/2016/10/b4.jpg",
         "quia voluptas sit",
         null,
         "150.0",
         "200.0",
         null,
         null,
         "https://hanoutedz.com/produit/quia-voluptas-sit-2/",
         "Bathroom",
         null
        ],
        [
         "3",
         "https://hanoutedz.com/wp-content/uploads/2016/10/b7.jpg",
         "beatae vitae dicta",
         null,
         null,
         "150.0",
         null,
         null,
         "https://hanoutedz.com/produit/beatae-vitae-dicta-2/",
         "Bathroom",
         null
        ],
        [
         "4",
         "https://hanoutedz.com/wp-content/uploads/2016/10/d8.jpg",
         "qui ratione volup",
         null,
         null,
         "100.0",
         null,
         null,
         "https://hanoutedz.com/produit/qui-ratione-volup-2/",
         "Bathroom",
         null
        ]
       ],
       "shape": {
        "columns": 10,
        "rows": 5
       }
      },
      "text/html": [
       "<div>\n",
       "<style scoped>\n",
       "    .dataframe tbody tr th:only-of-type {\n",
       "        vertical-align: middle;\n",
       "    }\n",
       "\n",
       "    .dataframe tbody tr th {\n",
       "        vertical-align: top;\n",
       "    }\n",
       "\n",
       "    .dataframe thead th {\n",
       "        text-align: right;\n",
       "    }\n",
       "</style>\n",
       "<table border=\"1\" class=\"dataframe\">\n",
       "  <thead>\n",
       "    <tr style=\"text-align: right;\">\n",
       "      <th></th>\n",
       "      <th>product_image</th>\n",
       "      <th>product_name</th>\n",
       "      <th>product_brand</th>\n",
       "      <th>product_price_after_discount</th>\n",
       "      <th>product_price_before_discount</th>\n",
       "      <th>discount</th>\n",
       "      <th>rating</th>\n",
       "      <th>product_url</th>\n",
       "      <th>category_name</th>\n",
       "      <th>sub_category_title</th>\n",
       "    </tr>\n",
       "  </thead>\n",
       "  <tbody>\n",
       "    <tr>\n",
       "      <th>0</th>\n",
       "      <td>https://hanoutedz.com/wp-content/uploads/2016/...</td>\n",
       "      <td>ipsa quae ab</td>\n",
       "      <td>NaN</td>\n",
       "      <td>NaN</td>\n",
       "      <td>152.0</td>\n",
       "      <td>NaN</td>\n",
       "      <td>NaN</td>\n",
       "      <td>https://hanoutedz.com/produit/ipsa-quae-ab/</td>\n",
       "      <td>Bathroom</td>\n",
       "      <td>NaN</td>\n",
       "    </tr>\n",
       "    <tr>\n",
       "      <th>1</th>\n",
       "      <td>https://hanoutedz.com/wp-content/uploads/2016/...</td>\n",
       "      <td>eaque ipsa quae</td>\n",
       "      <td>NaN</td>\n",
       "      <td>70.0</td>\n",
       "      <td>60.0</td>\n",
       "      <td>NaN</td>\n",
       "      <td>NaN</td>\n",
       "      <td>https://hanoutedz.com/produit/eaque-ipsa-quae/</td>\n",
       "      <td>Bathroom</td>\n",
       "      <td>NaN</td>\n",
       "    </tr>\n",
       "    <tr>\n",
       "      <th>2</th>\n",
       "      <td>https://hanoutedz.com/wp-content/uploads/2016/...</td>\n",
       "      <td>quia voluptas sit</td>\n",
       "      <td>NaN</td>\n",
       "      <td>150.0</td>\n",
       "      <td>200.0</td>\n",
       "      <td>NaN</td>\n",
       "      <td>NaN</td>\n",
       "      <td>https://hanoutedz.com/produit/quia-voluptas-si...</td>\n",
       "      <td>Bathroom</td>\n",
       "      <td>NaN</td>\n",
       "    </tr>\n",
       "    <tr>\n",
       "      <th>3</th>\n",
       "      <td>https://hanoutedz.com/wp-content/uploads/2016/...</td>\n",
       "      <td>beatae vitae dicta</td>\n",
       "      <td>NaN</td>\n",
       "      <td>NaN</td>\n",
       "      <td>150.0</td>\n",
       "      <td>NaN</td>\n",
       "      <td>NaN</td>\n",
       "      <td>https://hanoutedz.com/produit/beatae-vitae-dic...</td>\n",
       "      <td>Bathroom</td>\n",
       "      <td>NaN</td>\n",
       "    </tr>\n",
       "    <tr>\n",
       "      <th>4</th>\n",
       "      <td>https://hanoutedz.com/wp-content/uploads/2016/...</td>\n",
       "      <td>qui ratione volup</td>\n",
       "      <td>NaN</td>\n",
       "      <td>NaN</td>\n",
       "      <td>100.0</td>\n",
       "      <td>NaN</td>\n",
       "      <td>NaN</td>\n",
       "      <td>https://hanoutedz.com/produit/qui-ratione-volu...</td>\n",
       "      <td>Bathroom</td>\n",
       "      <td>NaN</td>\n",
       "    </tr>\n",
       "  </tbody>\n",
       "</table>\n",
       "</div>"
      ],
      "text/plain": [
       "                                       product_image        product_name  \\\n",
       "0  https://hanoutedz.com/wp-content/uploads/2016/...        ipsa quae ab   \n",
       "1  https://hanoutedz.com/wp-content/uploads/2016/...     eaque ipsa quae   \n",
       "2  https://hanoutedz.com/wp-content/uploads/2016/...   quia voluptas sit   \n",
       "3  https://hanoutedz.com/wp-content/uploads/2016/...  beatae vitae dicta   \n",
       "4  https://hanoutedz.com/wp-content/uploads/2016/...   qui ratione volup   \n",
       "\n",
       "  product_brand product_price_after_discount product_price_before_discount  \\\n",
       "0           NaN                          NaN                         152.0   \n",
       "1           NaN                         70.0                          60.0   \n",
       "2           NaN                        150.0                         200.0   \n",
       "3           NaN                          NaN                         150.0   \n",
       "4           NaN                          NaN                         100.0   \n",
       "\n",
       "   discount  rating                                        product_url  \\\n",
       "0       NaN     NaN        https://hanoutedz.com/produit/ipsa-quae-ab/   \n",
       "1       NaN     NaN     https://hanoutedz.com/produit/eaque-ipsa-quae/   \n",
       "2       NaN     NaN  https://hanoutedz.com/produit/quia-voluptas-si...   \n",
       "3       NaN     NaN  https://hanoutedz.com/produit/beatae-vitae-dic...   \n",
       "4       NaN     NaN  https://hanoutedz.com/produit/qui-ratione-volu...   \n",
       "\n",
       "  category_name sub_category_title  \n",
       "0      Bathroom                NaN  \n",
       "1      Bathroom                NaN  \n",
       "2      Bathroom                NaN  \n",
       "3      Bathroom                NaN  \n",
       "4      Bathroom                NaN  "
      ]
     },
     "execution_count": 186,
     "metadata": {},
     "output_type": "execute_result"
    }
   ],
   "source": [
    "df.head()"
   ]
  },
  {
   "cell_type": "code",
   "execution_count": 187,
   "id": "090d77c2",
   "metadata": {},
   "outputs": [
    {
     "data": {
      "text/plain": [
       "(2774, 10)"
      ]
     },
     "execution_count": 187,
     "metadata": {},
     "output_type": "execute_result"
    }
   ],
   "source": [
    "df.shape"
   ]
  },
  {
   "cell_type": "code",
   "execution_count": 188,
   "id": "99ec56cc",
   "metadata": {},
   "outputs": [
    {
     "name": "stdout",
     "output_type": "stream",
     "text": [
      "<class 'pandas.core.frame.DataFrame'>\n",
      "RangeIndex: 2774 entries, 0 to 2773\n",
      "Data columns (total 10 columns):\n",
      " #   Column                         Non-Null Count  Dtype  \n",
      "---  ------                         --------------  -----  \n",
      " 0   product_image                  2774 non-null   object \n",
      " 1   product_name                   2774 non-null   object \n",
      " 2   product_brand                  2347 non-null   object \n",
      " 3   product_price_after_discount   2603 non-null   object \n",
      " 4   product_price_before_discount  1734 non-null   object \n",
      " 5   discount                       1287 non-null   float64\n",
      " 6   rating                         2325 non-null   float64\n",
      " 7   product_url                    2774 non-null   object \n",
      " 8   category_name                  2774 non-null   object \n",
      " 9   sub_category_title             2325 non-null   object \n",
      "dtypes: float64(2), object(8)\n",
      "memory usage: 216.8+ KB\n"
     ]
    }
   ],
   "source": [
    "df.info()"
   ]
  },
  {
   "cell_type": "code",
   "execution_count": 189,
   "id": "49355582",
   "metadata": {},
   "outputs": [
    {
     "data": {
      "application/vnd.microsoft.datawrangler.viewer.v0+json": {
       "columns": [
        {
         "name": "index",
         "rawType": "int64",
         "type": "integer"
        },
        {
         "name": "product_price_before_discount",
         "rawType": "object",
         "type": "unknown"
        }
       ],
       "ref": "87a1cdfa-1f87-43f4-87e0-9aebfc72e7de",
       "rows": [
        [
         "0",
         "152.0"
        ],
        [
         "1",
         "60.0"
        ],
        [
         "2",
         "200.0"
        ],
        [
         "3",
         "150.0"
        ],
        [
         "4",
         "100.0"
        ],
        [
         "5",
         "60.0"
        ],
        [
         "6",
         "145.0"
        ],
        [
         "7",
         "177.0"
        ],
        [
         "8",
         "152.0"
        ],
        [
         "9",
         "79.0"
        ],
        [
         "10",
         "175.0"
        ],
        [
         "11",
         "78.0"
        ],
        [
         "12",
         "60.0"
        ],
        [
         "13",
         "2.4"
        ],
        [
         "14",
         "2.4"
        ],
        [
         "15",
         "3.2"
        ],
        [
         "16",
         "3.2"
        ],
        [
         "17",
         "4.7"
        ],
        [
         "18",
         "4.7"
        ],
        [
         "19",
         "1.2"
        ],
        [
         "20",
         "1.2"
        ],
        [
         "21",
         "2.5"
        ],
        [
         "22",
         "2.5"
        ],
        [
         "23",
         "2.2"
        ],
        [
         "24",
         "2.2"
        ],
        [
         "25",
         "2.8"
        ],
        [
         "26",
         "2.8"
        ],
        [
         "27",
         "3.0"
        ],
        [
         "28",
         "3.0"
        ],
        [
         "29",
         "3.5"
        ],
        [
         "30",
         "3.5"
        ],
        [
         "31",
         "950.0"
        ],
        [
         "32",
         "950.0"
        ],
        [
         "33",
         "3.9"
        ],
        [
         "34",
         "3.9"
        ],
        [
         "35",
         "3.6"
        ],
        [
         "36",
         "3.6"
        ],
        [
         "37",
         "300.0"
        ],
        [
         "38",
         "300.0"
        ],
        [
         "39",
         "500.0"
        ],
        [
         "40",
         "500.0"
        ],
        [
         "41",
         "700.0"
        ],
        [
         "42",
         "700.0"
        ],
        [
         "43",
         "1.15"
        ],
        [
         "44",
         "1.15"
        ],
        [
         "45",
         "850.0"
        ],
        [
         "46",
         "850.0"
        ],
        [
         "47",
         "520.0"
        ],
        [
         "48",
         "520.0"
        ],
        [
         "49",
         "1.2"
        ]
       ],
       "shape": {
        "columns": 1,
        "rows": 2774
       }
      },
      "text/plain": [
       "0       152.0\n",
       "1        60.0\n",
       "2       200.0\n",
       "3       150.0\n",
       "4       100.0\n",
       "        ...  \n",
       "2769      NaN\n",
       "2770      NaN\n",
       "2771    3,500\n",
       "2772      NaN\n",
       "2773      NaN\n",
       "Name: product_price_before_discount, Length: 2774, dtype: object"
      ]
     },
     "execution_count": 189,
     "metadata": {},
     "output_type": "execute_result"
    }
   ],
   "source": [
    "df.product_price_before_discount"
   ]
  },
  {
   "cell_type": "code",
   "execution_count": 190,
   "id": "5d023d2f",
   "metadata": {},
   "outputs": [
    {
     "data": {
      "application/vnd.microsoft.datawrangler.viewer.v0+json": {
       "columns": [
        {
         "name": "index",
         "rawType": "int64",
         "type": "integer"
        },
        {
         "name": "product_price_after_discount",
         "rawType": "object",
         "type": "unknown"
        }
       ],
       "ref": "467dec7c-24a9-4318-84d0-51e858f11885",
       "rows": [
        [
         "0",
         null
        ],
        [
         "1",
         "70.0"
        ],
        [
         "2",
         "150.0"
        ],
        [
         "3",
         null
        ],
        [
         "4",
         null
        ],
        [
         "5",
         "50.0"
        ],
        [
         "6",
         "85.0"
        ],
        [
         "7",
         null
        ],
        [
         "8",
         null
        ],
        [
         "9",
         "60.0"
        ],
        [
         "10",
         "150.0"
        ],
        [
         "11",
         "60.0"
        ],
        [
         "12",
         "50.0"
        ],
        [
         "13",
         "1.5"
        ],
        [
         "14",
         "1.5"
        ],
        [
         "15",
         "2.2"
        ],
        [
         "16",
         "2.2"
        ],
        [
         "17",
         "3.0"
        ],
        [
         "18",
         "3.0"
        ],
        [
         "19",
         "350.0"
        ],
        [
         "20",
         "350.0"
        ],
        [
         "21",
         "850.0"
        ],
        [
         "22",
         "850.0"
        ],
        [
         "23",
         null
        ],
        [
         "24",
         null
        ],
        [
         "25",
         "1.95"
        ],
        [
         "26",
         "1.95"
        ],
        [
         "27",
         "1.5"
        ],
        [
         "28",
         "1.5"
        ],
        [
         "29",
         "1.3"
        ],
        [
         "30",
         "1.3"
        ],
        [
         "31",
         "850.0"
        ],
        [
         "32",
         "850.0"
        ],
        [
         "33",
         "3.4"
        ],
        [
         "34",
         "3.4"
        ],
        [
         "35",
         "3.2"
        ],
        [
         "36",
         "3.2"
        ],
        [
         "37",
         null
        ],
        [
         "38",
         null
        ],
        [
         "39",
         "400.0"
        ],
        [
         "40",
         "400.0"
        ],
        [
         "41",
         "500.0"
        ],
        [
         "42",
         "500.0"
        ],
        [
         "43",
         "300.0"
        ],
        [
         "44",
         "300.0"
        ],
        [
         "45",
         "700.0"
        ],
        [
         "46",
         "700.0"
        ],
        [
         "47",
         "370.0"
        ],
        [
         "48",
         "370.0"
        ],
        [
         "49",
         "700.0"
        ]
       ],
       "shape": {
        "columns": 1,
        "rows": 2774
       }
      },
      "text/plain": [
       "0         NaN\n",
       "1        70.0\n",
       "2       150.0\n",
       "3         NaN\n",
       "4         NaN\n",
       "        ...  \n",
       "2769    3,500\n",
       "2770    3,000\n",
       "2771    2,990\n",
       "2772    3,000\n",
       "2773    1,950\n",
       "Name: product_price_after_discount, Length: 2774, dtype: object"
      ]
     },
     "execution_count": 190,
     "metadata": {},
     "output_type": "execute_result"
    }
   ],
   "source": [
    "df.product_price_after_discount"
   ]
  },
  {
   "cell_type": "markdown",
   "id": "19251732",
   "metadata": {},
   "source": [
    "After diplaying the general information of the data, we can notice that the columns **product_price_before_discount** and **product_price_after_discount** are stored as object types instead of nmerical types, even though they represent prices. This indicates that they should be converted to numeric values for proper analysis "
   ]
  },
  {
   "cell_type": "code",
   "execution_count": 191,
   "id": "11ccbf6f",
   "metadata": {},
   "outputs": [
    {
     "data": {
      "text/html": [
       "<!doctype html>\n",
       "<html lang=\"en\">\n",
       "\n",
       "<body>\n",
       "  <article class=\"card\">\n",
       "    <div class=\"eyebrow\"><span class=\"dot\"></span>EDA Finding</div>\n",
       "    <h1>Price columns stored as text instead of numbers</h1>\n",
       "    <p>\n",
       "      After displaying the dataset’s general information, we noticed that\n",
       "      the columns <span class=\"chip\">product_price_before_discount</span>\n",
       "      and <span class=\"chip\">product_price_after_discount</span> are stored as\n",
       "      <span class=\"kbd\">object</span> types even though they represent prices.\n",
       "      These should be converted to numeric values for accurate analysis and modeling.\n",
       "    </p>\n",
       "    <p class=\"hint\">Tip: strip currency symbols and thousand separators, then cast with\n",
       "      <span class=\"kbd\">pd.to_numeric(errors=\"coerce\")</span>.\n",
       "    </p>\n",
       "    <div class=\"chips\">\n",
       "      <span class=\"chip\">Convert to float</span>\n",
       "      <span class=\"chip\">Handle missing</span>\n",
       "      <span class=\"chip\">Normalize format</span>\n",
       "    </div>\n",
       "  </article>\n",
       "</body>\n",
       "</html>\n"
      ],
      "text/plain": [
       "<IPython.core.display.HTML object>"
      ]
     },
     "metadata": {},
     "output_type": "display_data"
    }
   ],
   "source": [
    "%%html\n",
    "<!doctype html>\n",
    "<html lang=\"en\">\n",
    "\n",
    "<body>\n",
    "  <article class=\"card\">\n",
    "    <div class=\"eyebrow\"><span class=\"dot\"></span>EDA Finding</div>\n",
    "    <h1>Price columns stored as text instead of numbers</h1>\n",
    "    <p>\n",
    "      After displaying the dataset’s general information, we noticed that\n",
    "      the columns <span class=\"chip\">product_price_before_discount</span>\n",
    "      and <span class=\"chip\">product_price_after_discount</span> are stored as\n",
    "      <span class=\"kbd\">object</span> types even though they represent prices.\n",
    "      These should be converted to numeric values for accurate analysis and modeling.\n",
    "    </p>\n",
    "    <p class=\"hint\">Tip: strip currency symbols and thousand separators, then cast with\n",
    "      <span class=\"kbd\">pd.to_numeric(errors=\"coerce\")</span>.\n",
    "    </p>\n",
    "    <div class=\"chips\">\n",
    "      <span class=\"chip\">Convert to float</span>\n",
    "      <span class=\"chip\">Handle missing</span>\n",
    "      <span class=\"chip\">Normalize format</span>\n",
    "    </div>\n",
    "  </article>\n",
    "</body>\n",
    "</html>\n"
   ]
  },
  {
   "cell_type": "code",
   "execution_count": 192,
   "id": "908d2981",
   "metadata": {},
   "outputs": [
    {
     "data": {
      "application/vnd.microsoft.datawrangler.viewer.v0+json": {
       "columns": [
        {
         "name": "product_price_before_discount",
         "rawType": "object",
         "type": "unknown"
        },
        {
         "name": "count",
         "rawType": "int64",
         "type": "integer"
        }
       ],
       "ref": "b4c6b9b8-c425-4866-aed1-338955485bfe",
       "rows": [
        [
         "<class 'float'>",
         "1487"
        ],
        [
         "<class 'str'>",
         "1287"
        ]
       ],
       "shape": {
        "columns": 1,
        "rows": 2
       }
      },
      "text/plain": [
       "product_price_before_discount\n",
       "<class 'float'>    1487\n",
       "<class 'str'>      1287\n",
       "Name: count, dtype: int64"
      ]
     },
     "execution_count": 192,
     "metadata": {},
     "output_type": "execute_result"
    }
   ],
   "source": [
    "df['product_price_before_discount'].map(type).value_counts()"
   ]
  },
  {
   "cell_type": "code",
   "execution_count": 193,
   "id": "85f54f17",
   "metadata": {},
   "outputs": [
    {
     "data": {
      "application/vnd.microsoft.datawrangler.viewer.v0+json": {
       "columns": [
        {
         "name": "product_price_after_discount",
         "rawType": "object",
         "type": "unknown"
        },
        {
         "name": "count",
         "rawType": "int64",
         "type": "integer"
        }
       ],
       "ref": "f8ce63e0-7785-4782-9389-8dfbd56e1152",
       "rows": [
        [
         "<class 'str'>",
         "2325"
        ],
        [
         "<class 'float'>",
         "449"
        ]
       ],
       "shape": {
        "columns": 1,
        "rows": 2
       }
      },
      "text/plain": [
       "product_price_after_discount\n",
       "<class 'str'>      2325\n",
       "<class 'float'>     449\n",
       "Name: count, dtype: int64"
      ]
     },
     "execution_count": 193,
     "metadata": {},
     "output_type": "execute_result"
    }
   ],
   "source": [
    "df['product_price_after_discount'].map(type).value_counts()"
   ]
  },
  {
   "cell_type": "markdown",
   "id": "60d7f542",
   "metadata": {},
   "source": [
    "we notice that the two columns contain mixed types (float and str) so we need to change only the str"
   ]
  },
  {
   "cell_type": "code",
   "execution_count": 194,
   "id": "9ced2c84",
   "metadata": {},
   "outputs": [
    {
     "data": {
      "application/vnd.microsoft.datawrangler.viewer.v0+json": {
       "columns": [
        {
         "name": "index",
         "rawType": "int64",
         "type": "integer"
        },
        {
         "name": "product_image",
         "rawType": "object",
         "type": "string"
        },
        {
         "name": "product_name",
         "rawType": "object",
         "type": "string"
        },
        {
         "name": "product_brand",
         "rawType": "object",
         "type": "string"
        },
        {
         "name": "product_price_after_discount",
         "rawType": "object",
         "type": "string"
        },
        {
         "name": "product_price_before_discount",
         "rawType": "object",
         "type": "string"
        },
        {
         "name": "discount",
         "rawType": "float64",
         "type": "float"
        },
        {
         "name": "rating",
         "rawType": "float64",
         "type": "float"
        },
        {
         "name": "product_url",
         "rawType": "object",
         "type": "string"
        },
        {
         "name": "category_name",
         "rawType": "object",
         "type": "string"
        },
        {
         "name": "sub_category_title",
         "rawType": "object",
         "type": "string"
        }
       ],
       "ref": "946f5afc-9dc7-4061-9e84-f7d537f2b081",
       "rows": [
        [
         "449",
         "https://dz.jumia.is/unsafe/fit-in/500x500/filters:fill(white)/product/47/0785/1.jpg?7444",
         "Lumière ( lot de 3 lampes) LED réglable sous-meuble avec télécommande",
         "Notification sur la  confidentialité et les cookies",
         "829",
         "2,950",
         "72.0",
         "3.3",
         "https://www.jumia.com.dz/lumiere-lot-de-3-lampes-led-reglable-sous-meuble-avec-telecommande-sans-marque-mpg33143.html",
         "Électro-ménager",
         "Accessoires High Tech"
        ],
        [
         "450",
         "https://dz.jumia.is/unsafe/fit-in/500x500/filters:fill(white)/product/27/4755/1.jpg?7508",
         "Magcubic Mini Projecteur, HY300 Data show Portable, 4K",
         "Notification sur la  confidentialité et les cookies",
         "18,400",
         "22,500",
         "18.0",
         "4.6",
         "https://www.jumia.com.dz/magcubic-mini-projecteur-hy300-data-show-portable-4k-557472.html",
         "Électro-ménager",
         "Accessoires High Tech"
        ],
        [
         "456",
         "https://dz.jumia.is/unsafe/fit-in/500x500/filters:fill(white)/product/27/0226/1.jpg?0872",
         "Uniross 4 x Pile rechargeable Lithium AA USB-C 1.5V U322057",
         "Notification sur la  confidentialité et les cookies",
         "4,750",
         "5,200",
         "9.0",
         "4.5",
         "https://www.jumia.com.dz/uniross-4-x-pile-rechargeable-lithium-aa-usb-c-1.5v-u322057-622072.html",
         "Électro-ménager",
         "Accessoires High Tech"
        ],
        [
         "457",
         "https://dz.jumia.is/unsafe/fit-in/500x500/filters:fill(white)/product/49/7626/1.jpg?6951",
         "Yunteng Trépied Mini Poulpe (Pieuvre) pour Caméra avec Support de Clip de Téléphone VCT-3280",
         "Notification sur la  confidentialité et les cookies",
         "1,999",
         "2,550",
         "22.0",
         "0.0",
         "https://www.jumia.com.dz/yunteng-trepied-mini-poulpe-pieuvre-pour-camera-avec-support-de-clip-de-telephone-vct-3280-626794.html",
         "Électro-ménager",
         "Accessoires High Tech"
        ],
        [
         "459",
         "https://dz.jumia.is/unsafe/fit-in/500x500/filters:fill(white)/product/37/0226/1.jpg?0869",
         "Uniross 4 x Pile rechargeable Lithium AAA USB-C 1.5V - U322064",
         "Notification sur la  confidentialité et les cookies",
         "4,750",
         "5,200",
         "9.0",
         "5.0",
         "https://www.jumia.com.dz/uniross-4-x-pile-rechargeable-lithium-aaa-usb-c-1.5v-u322064-622073.html",
         "Électro-ménager",
         "Accessoires High Tech"
        ],
        [
         "461",
         "https://dz.jumia.is/unsafe/fit-in/500x500/filters:fill(white)/product/92/0575/1.jpg?6896",
         "Cable AUX 3.5mm Jack Auxiliaire audio mâle vers mâle",
         "Notification sur la  confidentialité et les cookies",
         "395",
         "500",
         "21.0",
         "1.0",
         "https://www.jumia.com.dz/generique-cable-aux-3.5mm-jack-auxiliaire-audio-male-vers-male-575029.html",
         "Électro-ménager",
         "Accessoires High Tech"
        ],
        [
         "466",
         "https://dz.jumia.is/unsafe/fit-in/500x500/filters:fill(white)/product/08/0226/1.jpg?0871",
         "Uniross Pack 4 x Pile Rechargeable AAA 1000mAh HYBRIO pre-charged UH4AAA1000",
         "Notification sur la  confidentialité et les cookies",
         "2,500",
         "2,900",
         "14.0",
         "5.0",
         "https://www.jumia.com.dz/uniross-pack-4-x-pile-rechargeable-aaa-1000mah-hybrio-pre-charged-uh4aaa1000-622080.html",
         "Électro-ménager",
         "Accessoires High Tech"
        ],
        [
         "471",
         "https://dz.jumia.is/unsafe/fit-in/500x500/filters:fill(white)/product/36/6926/1.jpg?2370",
         "Support tv mural inclinable Universel Pour Tv De 14 À 43 Pouces Supporte Jusqu'À 25Kg",
         "Notification sur la  confidentialité et les cookies",
         "3,500",
         "4,600",
         "24.0",
         "0.0",
         "https://www.jumia.com.dz/generique-support-tv-mural-inclinable-universel-pour-tv-de-14-a-43-pouces-supporte-jusqua-25kg-629663.html",
         "Électro-ménager",
         "Accessoires High Tech"
        ],
        [
         "472",
         "https://dz.jumia.is/unsafe/fit-in/500x500/filters:fill(white)/product/93/2326/1.jpg?3341",
         "K8 Microphone Sans Fil Micro Cravate Pour Interview, Live, Vlog Avec Son Clair",
         "Notification sur la  confidentialité et les cookies",
         "2,100",
         "2,300",
         "9.0",
         "0.0",
         "https://www.jumia.com.dz/generique-k8-microphone-sans-fil-micro-cravate-pour-interview-live-vlog-avec-son-clair-623239.html",
         "Électro-ménager",
         "Accessoires High Tech"
        ],
        [
         "474",
         "https://dz.jumia.is/unsafe/fit-in/500x500/filters:fill(white)/product/85/4342/1.jpg?8738",
         "Microphone De Studio  - 1.5Mm Lavalier Micro Cravate -Noir",
         "Notification sur la  confidentialité et les cookies",
         "1,400",
         "2,300",
         "39.0",
         "3.4",
         "https://www.jumia.com.dz/de-studio-1.5mm-lavalier-micro-cravate-noir-microphone-mpg17227.html",
         "Électro-ménager",
         "Accessoires High Tech"
        ],
        [
         "482",
         "https://dz.jumia.is/unsafe/fit-in/500x500/filters:fill(white)/product/90/6572/1.jpg?1254",
         "ENERGICAL Prise De Protection Contre Les Sur Et Sous Tensions 15 A",
         "Notification sur la  confidentialité et les cookies",
         "2,680",
         "3,400",
         "21.0",
         "3.7",
         "https://www.jumia.com.dz/prise-de-protection-contre-les-sur-et-sous-tensions-15-a-energical-mpg18487.html",
         "Électro-ménager",
         "Accessoires High Tech"
        ],
        [
         "483",
         "https://dz.jumia.is/unsafe/fit-in/500x500/filters:fill(white)/product/40/4395/1.jpg?7526",
         "Câble Coaxial 10 mètre Rg6 Pour Audio / Vidéo / Tv-noir",
         "Notification sur la  confidentialité et les cookies",
         "1,050",
         "1,500",
         "32.0",
         "0.0",
         "https://www.jumia.com.dz/generique-cable-coaxial-10-metre-rg6-pour-audio-video-tv-noir-593404.html",
         "Électro-ménager",
         "Accessoires High Tech"
        ],
        [
         "488",
         "https://dz.jumia.is/unsafe/fit-in/500x500/filters:fill(white)/product/35/6125/1.jpg?6846",
         "Prise Stabilisateur - Protection Haute&Basse Tension –16A",
         "Notification sur la  confidentialité et les cookies",
         "3,399",
         "5,790",
         "41.0",
         "0.0",
         "https://www.jumia.com.dz/generique-prise-stabilisateur-protection-hautebasse-tension-16a-521653.html",
         "Électro-ménager",
         "Accessoires High Tech"
        ],
        [
         "489",
         "https://dz.jumia.is/unsafe/fit-in/500x500/filters:fill(white)/product/51/0924/1.jpg?7248",
         "Ruban Led + Télécommande - Jeux De Lumière Multicolore",
         "Notification sur la  confidentialité et les cookies",
         "1,000",
         "2,500",
         "60.0",
         "5.0",
         "https://www.jumia.com.dz/generique-ruban-led-telecommande-jeux-de-lumiere-multicolore-429015.html",
         "Électro-ménager",
         "Audio & Hifi"
        ],
        [
         "495",
         "https://dz.jumia.is/unsafe/fit-in/500x500/filters:fill(white)/product/10/1446/1.jpg?0644",
         "Hisense Enceinte de soirée bluetooth portable Party Rocker One Bluetooth et connectivité AUX/Micro/Guitare/USB, 300 W, batterie longue durée de 15 heures, 5 effets d'éclairage",
         "Notification sur la  confidentialité et les cookies",
         "85,000",
         "89,000",
         "4.0",
         "0.0",
         "https://www.jumia.com.dz/hisense-enceinte-de-soiree-bluetooth-portable-party-rocker-one-bluetooth-et-connectivite-auxmicroguitareusb-300-w-batterie-longue-duree-de-15-heures-5-effets-declairage-644101.html",
         "Électro-ménager",
         "Audio & Hifi"
        ],
        [
         "503",
         "https://dz.jumia.is/unsafe/fit-in/500x500/filters:fill(white)/product/37/4854/1.jpg?4309",
         "Ruban Led + Télécommande - Jeux de Lumière - Multicolore",
         "Notification sur la  confidentialité et les cookies",
         "1,999",
         "2,690",
         "26.0",
         "3.3",
         "https://www.jumia.com.dz/generique-ruban-led-telecommande-jeux-de-lumiere-multicolore-458473.html",
         "Électro-ménager",
         "Audio & Hifi"
        ],
        [
         "504",
         "https://dz.jumia.is/unsafe/fit-in/500x500/filters:fill(white)/product/05/9056/1.jpg?3712",
         "Karaoke karaoké set",
         "Notification sur la  confidentialité et les cookies",
         "7,500",
         "8,500",
         "12.0",
         "0.0",
         "https://www.jumia.com.dz/karaoke-karaoke-set-650950.html",
         "Électro-ménager",
         "Audio & Hifi"
        ],
        [
         "506",
         "https://dz.jumia.is/unsafe/fit-in/500x500/filters:fill(white)/product/84/8116/1.jpg?4946",
         "Réveil Numérique Robot Mignon avec USB, Horloge de Table avec Bluetooth, Musique, Expression, RVB, LED, Veilleuse, 5V",
         "Notification sur la  confidentialité et les cookies",
         "3,130",
         "4,200",
         "25.0",
         "0.0",
         "https://www.jumia.com.dz/generique-reveil-numerique-robot-mignon-avec-usb-horloge-de-table-avec-bluetooth-musique-expression-rvb-led-veilleuse-5v-611848.html",
         "Électro-ménager",
         "Audio & Hifi"
        ],
        [
         "516",
         "https://dz.jumia.is/unsafe/fit-in/500x500/filters:fill(white)/product/96/0616/1.jpg?7848",
         "Balance Electronique Pour Bagages",
         "Notification sur la  confidentialité et les cookies",
         "675",
         "1,799",
         "62.0",
         "4.7",
         "https://www.jumia.com.dz/generique-balance-electronique-pour-bagages-616069.html",
         "Électro-ménager",
         "Objectifs, projecteurs & stabilisateurs"
        ],
        [
         "517",
         "https://dz.jumia.is/unsafe/fit-in/500x500/filters:fill(white)/product/11/7326/1.jpg?3308",
         "Led Projecteur Projector ULTRA HD USB HDMI",
         "Notification sur la  confidentialité et les cookies",
         "12,900",
         "14,900",
         "13.0",
         "4.0",
         "https://www.jumia.com.dz/led-projecteur-projector-ultra-hd-usb-hdmi-623711.html",
         "Électro-ménager",
         "Objectifs, projecteurs & stabilisateurs"
        ],
        [
         "518",
         "https://dz.jumia.is/unsafe/fit-in/500x500/filters:fill(white)/product/38/7206/1.jpg?5165",
         "Lampe De Poche Led",
         "Notification sur la  confidentialité et les cookies",
         "665",
         "1,900",
         "65.0",
         "4.1",
         "https://www.jumia.com.dz/generique-lampe-de-poche-led-602783.html",
         "Électro-ménager",
         "Objectifs, projecteurs & stabilisateurs"
        ],
        [
         "519",
         "https://dz.jumia.is/unsafe/fit-in/500x500/filters:fill(white)/product/58/8516/1.jpg?6645",
         "Chargeur de piles pour piles domestiques + 4 piles rechargeables - Taille AA/AAA",
         "Notification sur la  confidentialité et les cookies",
         "1,100",
         "2,200",
         "50.0",
         "1.0",
         "https://www.jumia.com.dz/generique-chargeur-de-piles-pour-piles-domestiques-4-piles-rechargeables-taille-aaaaa-615885.html",
         "Électro-ménager",
         "Objectifs, projecteurs & stabilisateurs"
        ],
        [
         "520",
         "https://dz.jumia.is/unsafe/fit-in/500x500/filters:fill(white)/product/35/7106/1.jpg?3286",
         "lampe camping rechargeable usb",
         "Notification sur la  confidentialité et les cookies",
         "650",
         "1,350",
         "52.0",
         "0.0",
         "https://www.jumia.com.dz/generique-lampe-camping-rechargeable-usb-601753.html",
         "Électro-ménager",
         "Objectifs, projecteurs & stabilisateurs"
        ],
        [
         "522",
         "https://dz.jumia.is/unsafe/fit-in/500x500/filters:fill(white)/product/40/7895/1.jpg?5545",
         "Veilleuse enfant kenki",
         "Notification sur la  confidentialité et les cookies",
         "164",
         "500",
         "67.0",
         "5.0",
         "https://www.jumia.com.dz/veilleuse-enfant-kenki-sans-marque-mpg33127.html",
         "Électro-ménager",
         "Objectifs, projecteurs & stabilisateurs"
        ],
        [
         "525",
         "https://dz.jumia.is/unsafe/fit-in/500x500/filters:fill(white)/product/03/8326/1.jpg?9369",
         "Mini Projecteur, Projecteur de Film Portable 1080p",
         "Notification sur la  confidentialité et les cookies",
         "7,300",
         "11,000",
         "34.0",
         "3.0",
         "https://www.jumia.com.dz/generique-mini-projecteur-projecteur-de-film-portable-1080p-623830.html",
         "Électro-ménager",
         "Objectifs, projecteurs & stabilisateurs"
        ],
        [
         "526",
         "https://dz.jumia.is/unsafe/fit-in/500x500/filters:fill(white)/product/16/5655/1.jpg?7008",
         "Mini Lampe de Poche Rechargeable COB 3 Modes d'Eclairage Multifonction",
         "Notification sur la  confidentialité et les cookies",
         "990",
         "1,500",
         "34.0",
         "0.0",
         "https://www.jumia.com.dz/generique-mini-lampe-de-poche-rechargeable-cob-3-modes-declairage-multifonction-556561.html",
         "Électro-ménager",
         "Objectifs, projecteurs & stabilisateurs"
        ],
        [
         "527",
         "https://dz.jumia.is/unsafe/fit-in/500x500/filters:fill(white)/product/28/7206/1.jpg?4325",
         "Lampe Torche Led Mini Usb Rechargeable Réglable Zoom 3000 Lm",
         "Notification sur la  confidentialité et les cookies",
         "549",
         "1,650",
         "67.0",
         "3.2",
         "https://www.jumia.com.dz/generique-lampe-torche-led-mini-usb-rechargeable-reglable-zoom-3000-lm-602782.html",
         "Électro-ménager",
         "Objectifs, projecteurs & stabilisateurs"
        ],
        [
         "529",
         "https://dz.jumia.is/unsafe/fit-in/500x500/filters:fill(white)/product/85/525/1.jpg?0463",
         "Projecteur Mini Data Show - Led - Yg-300 - Jaune",
         "Notification sur la  confidentialité et les cookies",
         "7,500",
         "10,500",
         "29.0",
         "3.5",
         "https://www.jumia.com.dz/projecteur-mini-data-show-led-yg-300-jaune-sans-marque-mpg1264.html",
         "Électro-ménager",
         "Objectifs, projecteurs & stabilisateurs"
        ],
        [
         "530",
         "https://dz.jumia.is/unsafe/fit-in/500x500/filters:fill(white)/product/91/3606/1.jpg?2006",
         "Mini Lampe Torche De Poche Puissante Multifonctionnel m",
         "Notification sur la  confidentialité et les cookies",
         "325",
         "1,200",
         "73.0",
         "3.6",
         "https://www.jumia.com.dz/generique-mini-lampe-torche-de-poche-puissante-multifonctionnel-m-606319.html",
         "Électro-ménager",
         "Objectifs, projecteurs & stabilisateurs"
        ],
        [
         "531",
         "https://dz.jumia.is/unsafe/fit-in/500x500/filters:fill(white)/product/60/2054/1.jpg?2170",
         "Lampe Led - Energie Solaire Avec Détecteur De Mouvement - Noir",
         "Notification sur la  confidentialité et les cookies",
         "600",
         "995",
         "40.0",
         "3.7",
         "https://www.jumia.com.dz/lampe-led-energie-solaire-avec-detecteur-de-mouvement-noir-sans-marque-mpg33271.html",
         "Électro-ménager",
         "Objectifs, projecteurs & stabilisateurs"
        ],
        [
         "532",
         "https://dz.jumia.is/unsafe/fit-in/500x500/filters:fill(white)/product/88/6875/1.jpg?5386",
         "Promotion Projecteur Solaire Forme Caméra Surveillance Ronde Detect Nuit + Mouvement",
         "Notification sur la  confidentialité et les cookies",
         "2,450",
         "3,000",
         "18.0",
         "1.0",
         "https://www.jumia.com.dz/generique-promotion-projecteur-solaire-forme-camera-surveillance-ronde-detect-nuit-mouvement-578688.html",
         "Électro-ménager",
         "Objectifs, projecteurs & stabilisateurs"
        ],
        [
         "536",
         "https://dz.jumia.is/unsafe/fit-in/500x500/filters:fill(white)/product/25/1545/1.jpg?3326",
         "Yajia Système d'Eclairage Solaire Chargement Avec Panneau 3 Lampes LED",
         "Notification sur la  confidentialité et les cookies",
         "7,950",
         "8,800",
         "10.0",
         "5.0",
         "https://www.jumia.com.dz/yajia-systeme-declairage-solaire-chargement-avec-panneau-3-lampes-led-545152.html",
         "Électro-ménager",
         "Objectifs, projecteurs & stabilisateurs"
        ],
        [
         "540",
         "https://dz.jumia.is/unsafe/fit-in/500x500/filters:fill(white)/product/51/7716/1.jpg?3836",
         "Lampe de travail LED Power Bank Rechargeable USB 2.0 Avec Panneau Solaire",
         "Notification sur la  confidentialité et les cookies",
         "3,100",
         "4,500",
         "31.0",
         "0.0",
         "https://www.jumia.com.dz/generique-lampe-de-travail-led-power-bank-rechargeable-usb-2.0-avec-panneau-solaire-617715.html",
         "Électro-ménager",
         "Objectifs, projecteurs & stabilisateurs"
        ],
        [
         "541",
         "https://dz.jumia.is/unsafe/fit-in/500x500/filters:fill(white)/product/05/7354/1.jpg?4335",
         "Projecteur Solaire Forme Caméra Surveillance Detect Nuit + Mouvement",
         "Notification sur la  confidentialité et les cookies",
         "1,800",
         "2,250",
         "20.0",
         "3.6",
         "https://www.jumia.com.dz/generique-projecteur-solaire-forme-camera-surveillance-detect-nuit-mouvement-453750.html",
         "Électro-ménager",
         "Objectifs, projecteurs & stabilisateurs"
        ],
        [
         "544",
         "https://dz.jumia.is/unsafe/fit-in/500x500/filters:fill(white)/product/67/6613/1.jpg?4314",
         "Projecteur Solaire Forme Caméra Surveillance Détecteur De  Mouvement",
         "Notification sur la  confidentialité et les cookies",
         "2,100",
         "2,450",
         "14.0",
         "4.0",
         "https://www.jumia.com.dz/projecteur-solaire-forme-camera-surveillance-detecteur-de-mouvement-sans-marque-mpg25990.html",
         "Électro-ménager",
         "Objectifs, projecteurs & stabilisateurs"
        ],
        [
         "546",
         "https://dz.jumia.is/unsafe/fit-in/500x500/filters:fill(white)/product/28/8516/1.jpg?5506",
         "compteur de doigt-electronique-bague de comptage a main-mini-tasbih.n",
         "Notification sur la  confidentialité et les cookies",
         "190",
         "350",
         "46.0",
         "0.0",
         "https://www.jumia.com.dz/generique-compteur-de-doigt-electronique-bague-de-comptage-a-main-mini-tasbih.n-615882.html",
         "Électro-ménager",
         "Objectifs, projecteurs & stabilisateurs"
        ],
        [
         "548",
         "https://dz.jumia.is/unsafe/fit-in/500x500/filters:fill(white)/product/07/6716/1.jpg?3829",
         "lampe camping rechargeable usb",
         "Notification sur la  confidentialité et les cookies",
         "690",
         "1,000",
         "31.0",
         "0.0",
         "https://www.jumia.com.dz/generique-lampe-camping-rechargeable-usb-617670.html",
         "Électro-ménager",
         "Objectifs, projecteurs & stabilisateurs"
        ],
        [
         "551",
         "https://dz.jumia.is/unsafe/fit-in/500x500/filters:fill(white)/product/84/6125/1.jpg?6826",
         "Lampe Solaire Étanche Avec Détecteur De Mouvement 208 Led Grande Format",
         "Notification sur la  confidentialité et les cookies",
         "5,500",
         "7,810",
         "30.0",
         "0.0",
         "https://www.jumia.com.dz/generique-lampe-solaire-etanche-avec-detecteur-de-mouvement-208-led-grande-format-521648.html",
         "Électro-ménager",
         "Objectifs, projecteurs & stabilisateurs"
        ],
        [
         "554",
         "https://dz.jumia.is/unsafe/fit-in/500x500/filters:fill(white)/product/87/0874/1.jpg?4167",
         "Yunteng Trépied Portable Pliable & Variable pour Appareil Photo Jusqu'à 1.23m VCT-520",
         "Notification sur la  confidentialité et les cookies",
         "3,299",
         "3,500",
         "6.0",
         "0.0",
         "https://www.jumia.com.dz/yunteng-trepied-portable-pliable-variable-pour-appareil-photo-jusqua-1.23m-vct-520-478078.html",
         "Électro-ménager",
         "Objectifs, projecteurs & stabilisateurs"
        ],
        [
         "555",
         "https://dz.jumia.is/unsafe/fit-in/500x500/filters:fill(white)/product/64/0265/1.jpg?5227",
         "Projecteur d’astronome de ciel étoilé galaxie Bleutooth avec télécommande",
         "Notification sur la  confidentialité et les cookies",
         "3,500",
         "5,150",
         "32.0",
         "5.0",
         "https://www.jumia.com.dz/generique-projecteur-dastronome-de-ciel-etoile-galaxie-bleutooth-avec-telecommande-562046.html",
         "Électro-ménager",
         "Objectifs, projecteurs & stabilisateurs"
        ],
        [
         "558",
         "https://dz.jumia.is/unsafe/fit-in/500x500/filters:fill(white)/product/40/8523/1.jpg?4911",
         "Lampe De Remplissage Coucher De Soleil - Sunset Projecteur - Noir",
         "Notification sur la  confidentialité et les cookies",
         "3,500",
         "4,900",
         "29.0",
         "4.3",
         "https://www.jumia.com.dz/generique-lampe-de-remplissage-coucher-de-soleil-sunset-projecteur-noir-325804.html",
         "Électro-ménager",
         "Appareils photo"
        ],
        [
         "560",
         "https://dz.jumia.is/unsafe/fit-in/500x500/filters:fill(white)/product/38/4616/1.jpg?4442",
         "Insta360 Camera  Go 3 360° Action Cam Waterproof 5M 64Gb",
         "Notification sur la  confidentialité et les cookies",
         "92,150",
         "112,350",
         "18.0",
         "0.0",
         "https://www.jumia.com.dz/insta360-camera-go-3-360-action-cam-waterproof-5m-64gb-616483.html",
         "Électro-ménager",
         "Appareils photo"
        ],
        [
         "561",
         "https://dz.jumia.is/unsafe/fit-in/500x500/filters:fill(white)/product/21/5616/1.jpg?5821",
         "Insta360 Camera  X4 360° Action Cam 8K 72Mp Waterproof 10M Black",
         "Notification sur la  confidentialité et les cookies",
         "138,750",
         "142,500",
         "3.0",
         "0.0",
         "https://www.jumia.com.dz/insta360-camera-x4-360-action-cam-8k-72mp-waterproof-10m-black-616512.html",
         "Électro-ménager",
         "Appareils photo"
        ],
        [
         "562",
         "https://dz.jumia.is/unsafe/fit-in/500x500/filters:fill(white)/product/99/4616/1.jpg?5820",
         "Insta360 Camera  Acepro 360° Action Cam  Waterproof 10M Black",
         "Notification sur la  confidentialité et les cookies",
         "108,250",
         "115,000",
         "6.0",
         "0.0",
         "https://www.jumia.com.dz/insta360-camera-acepro-360-action-cam-waterproof-10m-black-616499.html",
         "Électro-ménager",
         "Appareils photo"
        ],
        [
         "563",
         "https://dz.jumia.is/unsafe/fit-in/500x500/filters:fill(white)/product/70/5616/1.jpg?5820",
         "Insta360 Camera  One X2 360° Action Cam - Waterproof 10M - Perche Invisible - Black",
         "Notification sur la  confidentialité et les cookies",
         "85,250",
         "90,000",
         "5.0",
         "0.0",
         "https://www.jumia.com.dz/insta360-camera-one-x2-360-action-cam-waterproof-10m-perche-invisible-black-616507.html",
         "Électro-ménager",
         "Appareils photo"
        ],
        [
         "566",
         "https://dz.jumia.is/unsafe/fit-in/500x500/filters:fill(white)/product/60/5616/1.jpg?5819",
         "Insta360 Camera  X3 360° Action Cam 4K 72Mp Waterproof 10M - Black",
         "Notification sur la  confidentialité et les cookies",
         "103,650",
         "155,000",
         "33.0",
         "0.0",
         "https://www.jumia.com.dz/insta360-camera-x3-360-action-cam-4k-72mp-waterproof-10m-black-616506.html",
         "Électro-ménager",
         "Appareils photo"
        ],
        [
         "567",
         "https://dz.jumia.is/unsafe/fit-in/500x500/filters:fill(white)/product/28/4616/1.jpg?5813",
         "Insta360 Camera  Go 3 360° Action Cam Waterproof 5M 128Gb",
         "Notification sur la  confidentialité et les cookies",
         "103,650",
         "115,350",
         "10.0",
         "0.0",
         "https://www.jumia.com.dz/insta360-camera-go-3-360-action-cam-waterproof-5m-128gb-616482.html",
         "Électro-ménager",
         "Appareils photo"
        ],
        [
         "571",
         "https://dz.jumia.is/unsafe/fit-in/500x500/filters:fill(white)/product/49/5846/1.jpg?6006",
         "GoPro HERO11 Black - Caméra d'action étanche avec vidéo Ultra HD 5.3K60, Photos 27MP, capteur d'image 1/1.9\", Diffusion en Direct, Webcam, stabilisation 1080p, 4K",
         "Notification sur la  confidentialité et les cookies",
         "85,000",
         "89,000",
         "4.0",
         "0.0",
         "https://www.jumia.com.dz/gopro-hero11-black-camera-daction-etanche-avec-video-ultra-hd-5.3k60-photos-27mp-capteur-dimage-11.9-diffusion-en-direct-webcam-stabilisation-1080p-4k-648594.html",
         "Électro-ménager",
         "Appareils photo"
        ],
        [
         "572",
         "https://dz.jumia.is/unsafe/fit-in/500x500/filters:fill(white)/product/37/1384/1.jpg?9006",
         "Lampe De Remplissage Coucher De Soleil - Sunset Projecteur - Noir",
         "Notification sur la  confidentialité et les cookies",
         "3,500",
         "4,900",
         "29.0",
         "5.0",
         "https://www.jumia.com.dz/generique-lampe-de-remplissage-coucher-de-soleil-sunset-projecteur-noir-483173.html",
         "Électro-ménager",
         "Appareils photo"
        ],
        [
         "574",
         "https://dz.jumia.is/unsafe/fit-in/500x500/filters:fill(white)/product/00/5616/1.jpg?4143",
         "Insta360 GO 3S – CAMÉRA 4K | 10MP | 128 Go – ULTRA COMPACTE & MAINS LIBRES",
         "Notification sur la  confidentialité et les cookies",
         "120,890",
         "127,000",
         "5.0",
         "0.0",
         "https://www.jumia.com.dz/insta360-go-3s-camera-4k-10mp-128-go-ultra-compacte-mains-libres-616500.html",
         "Électro-ménager",
         "Appareils photo"
        ]
       ],
       "shape": {
        "columns": 10,
        "rows": 1287
       }
      },
      "text/html": [
       "<div>\n",
       "<style scoped>\n",
       "    .dataframe tbody tr th:only-of-type {\n",
       "        vertical-align: middle;\n",
       "    }\n",
       "\n",
       "    .dataframe tbody tr th {\n",
       "        vertical-align: top;\n",
       "    }\n",
       "\n",
       "    .dataframe thead th {\n",
       "        text-align: right;\n",
       "    }\n",
       "</style>\n",
       "<table border=\"1\" class=\"dataframe\">\n",
       "  <thead>\n",
       "    <tr style=\"text-align: right;\">\n",
       "      <th></th>\n",
       "      <th>product_image</th>\n",
       "      <th>product_name</th>\n",
       "      <th>product_brand</th>\n",
       "      <th>product_price_after_discount</th>\n",
       "      <th>product_price_before_discount</th>\n",
       "      <th>discount</th>\n",
       "      <th>rating</th>\n",
       "      <th>product_url</th>\n",
       "      <th>category_name</th>\n",
       "      <th>sub_category_title</th>\n",
       "    </tr>\n",
       "  </thead>\n",
       "  <tbody>\n",
       "    <tr>\n",
       "      <th>449</th>\n",
       "      <td>https://dz.jumia.is/unsafe/fit-in/500x500/filt...</td>\n",
       "      <td>Lumière ( lot de 3 lampes) LED réglable sous-m...</td>\n",
       "      <td>Notification sur la  confidentialité et les co...</td>\n",
       "      <td>829</td>\n",
       "      <td>2,950</td>\n",
       "      <td>72.0</td>\n",
       "      <td>3.3</td>\n",
       "      <td>https://www.jumia.com.dz/lumiere-lot-de-3-lamp...</td>\n",
       "      <td>Électro-ménager</td>\n",
       "      <td>Accessoires High Tech</td>\n",
       "    </tr>\n",
       "    <tr>\n",
       "      <th>450</th>\n",
       "      <td>https://dz.jumia.is/unsafe/fit-in/500x500/filt...</td>\n",
       "      <td>Magcubic Mini Projecteur, HY300 Data show Port...</td>\n",
       "      <td>Notification sur la  confidentialité et les co...</td>\n",
       "      <td>18,400</td>\n",
       "      <td>22,500</td>\n",
       "      <td>18.0</td>\n",
       "      <td>4.6</td>\n",
       "      <td>https://www.jumia.com.dz/magcubic-mini-project...</td>\n",
       "      <td>Électro-ménager</td>\n",
       "      <td>Accessoires High Tech</td>\n",
       "    </tr>\n",
       "    <tr>\n",
       "      <th>456</th>\n",
       "      <td>https://dz.jumia.is/unsafe/fit-in/500x500/filt...</td>\n",
       "      <td>Uniross 4 x Pile rechargeable Lithium AA USB-C...</td>\n",
       "      <td>Notification sur la  confidentialité et les co...</td>\n",
       "      <td>4,750</td>\n",
       "      <td>5,200</td>\n",
       "      <td>9.0</td>\n",
       "      <td>4.5</td>\n",
       "      <td>https://www.jumia.com.dz/uniross-4-x-pile-rech...</td>\n",
       "      <td>Électro-ménager</td>\n",
       "      <td>Accessoires High Tech</td>\n",
       "    </tr>\n",
       "    <tr>\n",
       "      <th>457</th>\n",
       "      <td>https://dz.jumia.is/unsafe/fit-in/500x500/filt...</td>\n",
       "      <td>Yunteng Trépied Mini Poulpe (Pieuvre) pour Cam...</td>\n",
       "      <td>Notification sur la  confidentialité et les co...</td>\n",
       "      <td>1,999</td>\n",
       "      <td>2,550</td>\n",
       "      <td>22.0</td>\n",
       "      <td>0.0</td>\n",
       "      <td>https://www.jumia.com.dz/yunteng-trepied-mini-...</td>\n",
       "      <td>Électro-ménager</td>\n",
       "      <td>Accessoires High Tech</td>\n",
       "    </tr>\n",
       "    <tr>\n",
       "      <th>459</th>\n",
       "      <td>https://dz.jumia.is/unsafe/fit-in/500x500/filt...</td>\n",
       "      <td>Uniross 4 x Pile rechargeable Lithium AAA USB-...</td>\n",
       "      <td>Notification sur la  confidentialité et les co...</td>\n",
       "      <td>4,750</td>\n",
       "      <td>5,200</td>\n",
       "      <td>9.0</td>\n",
       "      <td>5.0</td>\n",
       "      <td>https://www.jumia.com.dz/uniross-4-x-pile-rech...</td>\n",
       "      <td>Électro-ménager</td>\n",
       "      <td>Accessoires High Tech</td>\n",
       "    </tr>\n",
       "    <tr>\n",
       "      <th>...</th>\n",
       "      <td>...</td>\n",
       "      <td>...</td>\n",
       "      <td>...</td>\n",
       "      <td>...</td>\n",
       "      <td>...</td>\n",
       "      <td>...</td>\n",
       "      <td>...</td>\n",
       "      <td>...</td>\n",
       "      <td>...</td>\n",
       "      <td>...</td>\n",
       "    </tr>\n",
       "    <tr>\n",
       "      <th>2740</th>\n",
       "      <td>https://dz.jumia.is/unsafe/fit-in/500x500/filt...</td>\n",
       "      <td>Compresseur Gonflleur Voitures 1 Piston 12V.</td>\n",
       "      <td>Notification sur la  confidentialité et les co...</td>\n",
       "      <td>2,490</td>\n",
       "      <td>3,200</td>\n",
       "      <td>22.0</td>\n",
       "      <td>3.0</td>\n",
       "      <td>https://www.jumia.com.dz/generique-compresseur...</td>\n",
       "      <td>Auto &amp; Moto</td>\n",
       "      <td>Pneus &amp; Jantes</td>\n",
       "    </tr>\n",
       "    <tr>\n",
       "      <th>2743</th>\n",
       "      <td>https://dz.jumia.is/unsafe/fit-in/500x500/filt...</td>\n",
       "      <td>Michelin MANO GONFLEUR   de 0.7 à 11 bars R-18...</td>\n",
       "      <td>Notification sur la  confidentialité et les co...</td>\n",
       "      <td>15,500</td>\n",
       "      <td>16,000</td>\n",
       "      <td>3.0</td>\n",
       "      <td>0.0</td>\n",
       "      <td>https://www.jumia.com.dz/michelin-mano-gonfleu...</td>\n",
       "      <td>Auto &amp; Moto</td>\n",
       "      <td>Pneus &amp; Jantes</td>\n",
       "    </tr>\n",
       "    <tr>\n",
       "      <th>2744</th>\n",
       "      <td>https://dz.jumia.is/unsafe/fit-in/500x500/filt...</td>\n",
       "      <td>TOTAL Mini Compremsseur D'Air Auto 12V De Voit...</td>\n",
       "      <td>Notification sur la  confidentialité et les co...</td>\n",
       "      <td>7,500</td>\n",
       "      <td>9,500</td>\n",
       "      <td>21.0</td>\n",
       "      <td>0.0</td>\n",
       "      <td>https://www.jumia.com.dz/total-mini-compremsse...</td>\n",
       "      <td>Auto &amp; Moto</td>\n",
       "      <td>Pneus &amp; Jantes</td>\n",
       "    </tr>\n",
       "    <tr>\n",
       "      <th>2765</th>\n",
       "      <td>https://dz.jumia.is/unsafe/fit-in/500x500/filt...</td>\n",
       "      <td>Kit De Réparation De Pare-Brise De Voiture Ave...</td>\n",
       "      <td>Notification sur la  confidentialité et les co...</td>\n",
       "      <td>999</td>\n",
       "      <td>1,480</td>\n",
       "      <td>33.0</td>\n",
       "      <td>2.0</td>\n",
       "      <td>https://www.jumia.com.dz/generique-kit-de-repa...</td>\n",
       "      <td>Auto &amp; Moto</td>\n",
       "      <td>Voiture</td>\n",
       "    </tr>\n",
       "    <tr>\n",
       "      <th>2771</th>\n",
       "      <td>https://dz.jumia.is/unsafe/fit-in/500x500/filt...</td>\n",
       "      <td>Peau De Chamois Naturel 90x60cm Ultra Absorban...</td>\n",
       "      <td>Notification sur la  confidentialité et les co...</td>\n",
       "      <td>2,990</td>\n",
       "      <td>3,500</td>\n",
       "      <td>15.0</td>\n",
       "      <td>0.0</td>\n",
       "      <td>https://www.jumia.com.dz/generique-peau-de-cha...</td>\n",
       "      <td>Auto &amp; Moto</td>\n",
       "      <td>Voiture</td>\n",
       "    </tr>\n",
       "  </tbody>\n",
       "</table>\n",
       "<p>1287 rows × 10 columns</p>\n",
       "</div>"
      ],
      "text/plain": [
       "                                          product_image  \\\n",
       "449   https://dz.jumia.is/unsafe/fit-in/500x500/filt...   \n",
       "450   https://dz.jumia.is/unsafe/fit-in/500x500/filt...   \n",
       "456   https://dz.jumia.is/unsafe/fit-in/500x500/filt...   \n",
       "457   https://dz.jumia.is/unsafe/fit-in/500x500/filt...   \n",
       "459   https://dz.jumia.is/unsafe/fit-in/500x500/filt...   \n",
       "...                                                 ...   \n",
       "2740  https://dz.jumia.is/unsafe/fit-in/500x500/filt...   \n",
       "2743  https://dz.jumia.is/unsafe/fit-in/500x500/filt...   \n",
       "2744  https://dz.jumia.is/unsafe/fit-in/500x500/filt...   \n",
       "2765  https://dz.jumia.is/unsafe/fit-in/500x500/filt...   \n",
       "2771  https://dz.jumia.is/unsafe/fit-in/500x500/filt...   \n",
       "\n",
       "                                           product_name  \\\n",
       "449   Lumière ( lot de 3 lampes) LED réglable sous-m...   \n",
       "450   Magcubic Mini Projecteur, HY300 Data show Port...   \n",
       "456   Uniross 4 x Pile rechargeable Lithium AA USB-C...   \n",
       "457   Yunteng Trépied Mini Poulpe (Pieuvre) pour Cam...   \n",
       "459   Uniross 4 x Pile rechargeable Lithium AAA USB-...   \n",
       "...                                                 ...   \n",
       "2740       Compresseur Gonflleur Voitures 1 Piston 12V.   \n",
       "2743  Michelin MANO GONFLEUR   de 0.7 à 11 bars R-18...   \n",
       "2744  TOTAL Mini Compremsseur D'Air Auto 12V De Voit...   \n",
       "2765  Kit De Réparation De Pare-Brise De Voiture Ave...   \n",
       "2771  Peau De Chamois Naturel 90x60cm Ultra Absorban...   \n",
       "\n",
       "                                          product_brand  \\\n",
       "449   Notification sur la  confidentialité et les co...   \n",
       "450   Notification sur la  confidentialité et les co...   \n",
       "456   Notification sur la  confidentialité et les co...   \n",
       "457   Notification sur la  confidentialité et les co...   \n",
       "459   Notification sur la  confidentialité et les co...   \n",
       "...                                                 ...   \n",
       "2740  Notification sur la  confidentialité et les co...   \n",
       "2743  Notification sur la  confidentialité et les co...   \n",
       "2744  Notification sur la  confidentialité et les co...   \n",
       "2765  Notification sur la  confidentialité et les co...   \n",
       "2771  Notification sur la  confidentialité et les co...   \n",
       "\n",
       "     product_price_after_discount product_price_before_discount  discount  \\\n",
       "449                           829                         2,950      72.0   \n",
       "450                        18,400                        22,500      18.0   \n",
       "456                         4,750                         5,200       9.0   \n",
       "457                         1,999                         2,550      22.0   \n",
       "459                         4,750                         5,200       9.0   \n",
       "...                           ...                           ...       ...   \n",
       "2740                        2,490                         3,200      22.0   \n",
       "2743                       15,500                        16,000       3.0   \n",
       "2744                        7,500                         9,500      21.0   \n",
       "2765                          999                         1,480      33.0   \n",
       "2771                        2,990                         3,500      15.0   \n",
       "\n",
       "      rating                                        product_url  \\\n",
       "449      3.3  https://www.jumia.com.dz/lumiere-lot-de-3-lamp...   \n",
       "450      4.6  https://www.jumia.com.dz/magcubic-mini-project...   \n",
       "456      4.5  https://www.jumia.com.dz/uniross-4-x-pile-rech...   \n",
       "457      0.0  https://www.jumia.com.dz/yunteng-trepied-mini-...   \n",
       "459      5.0  https://www.jumia.com.dz/uniross-4-x-pile-rech...   \n",
       "...      ...                                                ...   \n",
       "2740     3.0  https://www.jumia.com.dz/generique-compresseur...   \n",
       "2743     0.0  https://www.jumia.com.dz/michelin-mano-gonfleu...   \n",
       "2744     0.0  https://www.jumia.com.dz/total-mini-compremsse...   \n",
       "2765     2.0  https://www.jumia.com.dz/generique-kit-de-repa...   \n",
       "2771     0.0  https://www.jumia.com.dz/generique-peau-de-cha...   \n",
       "\n",
       "        category_name     sub_category_title  \n",
       "449   Électro-ménager  Accessoires High Tech  \n",
       "450   Électro-ménager  Accessoires High Tech  \n",
       "456   Électro-ménager  Accessoires High Tech  \n",
       "457   Électro-ménager  Accessoires High Tech  \n",
       "459   Électro-ménager  Accessoires High Tech  \n",
       "...               ...                    ...  \n",
       "2740      Auto & Moto         Pneus & Jantes  \n",
       "2743      Auto & Moto         Pneus & Jantes  \n",
       "2744      Auto & Moto         Pneus & Jantes  \n",
       "2765      Auto & Moto                Voiture  \n",
       "2771      Auto & Moto                Voiture  \n",
       "\n",
       "[1287 rows x 10 columns]"
      ]
     },
     "execution_count": 194,
     "metadata": {},
     "output_type": "execute_result"
    }
   ],
   "source": [
    "df[df['product_price_before_discount'].apply(lambda x: isinstance(x, str))]"
   ]
  },
  {
   "cell_type": "code",
   "execution_count": 195,
   "id": "22cf54b4",
   "metadata": {},
   "outputs": [],
   "source": [
    "def convert_to_float(price_str):\n",
    "    if type(price_str) == float:\n",
    "        pass\n",
    "    else:\n",
    "        price_str = price_str.replace(',', '')\n",
    "        price = float(price_str)\n",
    "        return price"
   ]
  },
  {
   "cell_type": "code",
   "execution_count": 196,
   "id": "60b731ce",
   "metadata": {},
   "outputs": [],
   "source": [
    "df.product_price_before_discount = df.product_price_before_discount.apply(convert_to_float)\n",
    "df.product_price_after_discount = df.product_price_after_discount.apply(convert_to_float)\n"
   ]
  },
  {
   "cell_type": "code",
   "execution_count": 197,
   "id": "93d2c7ac",
   "metadata": {},
   "outputs": [
    {
     "name": "stdout",
     "output_type": "stream",
     "text": [
      "product_price_before_discount type is  float64\n",
      "product_price_after_discount type is  float64\n"
     ]
    }
   ],
   "source": [
    "print('product_price_before_discount type is ',df.product_price_before_discount.dtype)\n",
    "print('product_price_after_discount type is ',df.product_price_after_discount.dtype)\n"
   ]
  },
  {
   "cell_type": "code",
   "execution_count": 198,
   "id": "6f2bf7c8",
   "metadata": {},
   "outputs": [
    {
     "data": {
      "application/vnd.microsoft.datawrangler.viewer.v0+json": {
       "columns": [
        {
         "name": "index",
         "rawType": "object",
         "type": "string"
        },
        {
         "name": "0",
         "rawType": "int64",
         "type": "integer"
        }
       ],
       "ref": "f90b9a7f-618e-44d3-9352-c3780a7f0d28",
       "rows": [
        [
         "product_image",
         "0"
        ],
        [
         "product_name",
         "0"
        ],
        [
         "product_brand",
         "427"
        ],
        [
         "product_price_after_discount",
         "449"
        ],
        [
         "product_price_before_discount",
         "1487"
        ],
        [
         "discount",
         "1487"
        ],
        [
         "rating",
         "449"
        ],
        [
         "product_url",
         "0"
        ],
        [
         "category_name",
         "0"
        ],
        [
         "sub_category_title",
         "449"
        ]
       ],
       "shape": {
        "columns": 1,
        "rows": 10
       }
      },
      "text/plain": [
       "product_image                       0\n",
       "product_name                        0\n",
       "product_brand                     427\n",
       "product_price_after_discount      449\n",
       "product_price_before_discount    1487\n",
       "discount                         1487\n",
       "rating                            449\n",
       "product_url                         0\n",
       "category_name                       0\n",
       "sub_category_title                449\n",
       "dtype: int64"
      ]
     },
     "execution_count": 198,
     "metadata": {},
     "output_type": "execute_result"
    }
   ],
   "source": [
    "df.isnull().sum()"
   ]
  },
  {
   "cell_type": "markdown",
   "id": "0bb14e60",
   "metadata": {},
   "source": [
    "we notice that some columns have a lot of null values, for further analysis, we use the following strategy to replace these missing values:\n",
    "* **product_brand**: since there is no other way to get the brand from the websites, we chose to replace it with \"No Data\"\n",
    "* **pruduct_price_before_discount** : if there is a discount than we calculate it if not then it's the same after the discount\n",
    "* **pruduct_price_after_discount** : if there is a discount than we calculate it if not then it's the same before the discount\n",
    "* **discount** : if there is the price before and after then we calculate it else 0\n",
    "* **rating** : replace it by 0 since it means that no one voted\n",
    "* **sub _category_title** : since there is no other way to get the brand from the websites, we chose to replace it with \"No Data\""
   ]
  },
  {
   "cell_type": "markdown",
   "id": "37be8799",
   "metadata": {},
   "source": [
    "### **Visualize data**"
   ]
  },
  {
   "cell_type": "markdown",
   "id": "fe127e83",
   "metadata": {},
   "source": [
    "### **export data**"
   ]
  },
  {
   "cell_type": "code",
   "execution_count": 199,
   "id": "41754f41",
   "metadata": {},
   "outputs": [],
   "source": [
    "df.to_csv('../data/processed/ecommerce_dz_data.csv')"
   ]
  }
 ],
 "metadata": {
  "kernelspec": {
   "display_name": ".venv (3.13.0)",
   "language": "python",
   "name": "python3"
  },
  "language_info": {
   "codemirror_mode": {
    "name": "ipython",
    "version": 3
   },
   "file_extension": ".py",
   "mimetype": "text/x-python",
   "name": "python",
   "nbconvert_exporter": "python",
   "pygments_lexer": "ipython3",
   "version": "3.13.0"
  }
 },
 "nbformat": 4,
 "nbformat_minor": 5
}
